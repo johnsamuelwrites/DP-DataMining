{
 "cells": [
  {
   "cell_type": "code",
   "execution_count": 1,
   "id": "c6a4e26f-6330-4682-b141-63f3826e542d",
   "metadata": {},
   "outputs": [
    {
     "name": "stdout",
     "output_type": "stream",
     "text": [
      "Projet\n"
     ]
    }
   ],
   "source": [
    "print(\"Projet\")"
   ]
  },
  {
   "cell_type": "code",
   "execution_count": 3,
   "id": "4c47fb48-b7a0-45b2-b5ae-ed7fff6e2190",
   "metadata": {},
   "outputs": [
    {
     "name": "stdout",
     "output_type": "stream",
     "text": [
      "Bonjour\n"
     ]
    }
   ],
   "source": [
    "# affichage\n",
    "print(\"Bonjour\")"
   ]
  },
  {
   "cell_type": "raw",
   "id": "3c331bce-c0ee-4c36-89ea-fddbb52cdff1",
   "metadata": {},
   "source": [
    "Digitalisation"
   ]
  },
  {
   "cell_type": "markdown",
   "id": "e560df99-9783-4853-9b97-f0206f555327",
   "metadata": {},
   "source": [
    "# Projet\n",
    "\n",
    "texte 1\n",
    "\n",
    "## section\n",
    "texte 2\n",
    "\n",
    "### sous-section"
   ]
  }
 ],
 "metadata": {
  "kernelspec": {
   "display_name": "Python 3 (ipykernel)",
   "language": "python",
   "name": "python3"
  },
  "language_info": {
   "codemirror_mode": {
    "name": "ipython",
    "version": 3
   },
   "file_extension": ".py",
   "mimetype": "text/x-python",
   "name": "python",
   "nbconvert_exporter": "python",
   "pygments_lexer": "ipython3",
   "version": "3.10.6"
  }
 },
 "nbformat": 4,
 "nbformat_minor": 5
}
